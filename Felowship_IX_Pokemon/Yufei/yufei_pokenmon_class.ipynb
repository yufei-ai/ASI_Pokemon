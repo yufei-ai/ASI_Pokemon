{
 "cells": [
  {
   "cell_type": "code",
   "execution_count": 1,
   "metadata": {},
   "outputs": [],
   "source": [
    "import pandas as pd\n",
    "import numpy as np\n",
    "from sklearn.model_selection import train_test_split\n",
    "\n",
    "df = pd.read_csv('pokemon_data.csv')\n",
    "#df.info()"
   ]
  },
  {
   "cell_type": "code",
   "execution_count": 2,
   "metadata": {},
   "outputs": [],
   "source": [
    "# df.mean()"
   ]
  },
  {
   "cell_type": "code",
   "execution_count": 3,
   "metadata": {
    "collapsed": true
   },
   "outputs": [],
   "source": [
    "## Creat X and Y data"
   ]
  },
  {
   "cell_type": "code",
   "execution_count": 4,
   "metadata": {
    "collapsed": true
   },
   "outputs": [],
   "source": [
    "# make target and features\n",
    "target = df.Type_1"
   ]
  },
  {
   "cell_type": "code",
   "execution_count": 5,
   "metadata": {},
   "outputs": [],
   "source": [
    "features = df.drop(['Type_1','Name'],axis = 1)\n",
    "#features"
   ]
  },
  {
   "cell_type": "code",
   "execution_count": 6,
   "metadata": {},
   "outputs": [],
   "source": [
    "#df.groupby('Body_Style').count()"
   ]
  },
  {
   "cell_type": "code",
   "execution_count": 7,
   "metadata": {
    "collapsed": true
   },
   "outputs": [],
   "source": [
    "#target = pd.get_dummies(target,dummy_na=True)"
   ]
  },
  {
   "cell_type": "code",
   "execution_count": 8,
   "metadata": {
    "collapsed": true
   },
   "outputs": [],
   "source": [
    "features = pd.get_dummies(features,dummy_na=True)\n"
   ]
  },
  {
   "cell_type": "code",
   "execution_count": 9,
   "metadata": {},
   "outputs": [
    {
     "name": "stdout",
     "output_type": "stream",
     "text": [
      "<class 'pandas.core.frame.DataFrame'>\n",
      "RangeIndex: 721 entries, 0 to 720\n",
      "Data columns (total 92 columns):\n",
      "Number                         721 non-null int64\n",
      "Total                          721 non-null int64\n",
      "HP                             721 non-null int64\n",
      "Attack                         721 non-null int64\n",
      "Defense                        721 non-null int64\n",
      "Sp_Atk                         721 non-null int64\n",
      "Sp_Def                         721 non-null int64\n",
      "Speed                          721 non-null int64\n",
      "Generation                     721 non-null int64\n",
      "isLegendary                    721 non-null bool\n",
      "hasGender                      721 non-null bool\n",
      "Pr_Male                        644 non-null float64\n",
      "hasMegaEvolution               721 non-null bool\n",
      "Height_m                       721 non-null float64\n",
      "Weight_kg                      721 non-null float64\n",
      "Catch_Rate                     721 non-null int64\n",
      "train                          721 non-null int64\n",
      "Type_2_Bug                     721 non-null uint8\n",
      "Type_2_Dark                    721 non-null uint8\n",
      "Type_2_Dragon                  721 non-null uint8\n",
      "Type_2_Electric                721 non-null uint8\n",
      "Type_2_Fairy                   721 non-null uint8\n",
      "Type_2_Fighting                721 non-null uint8\n",
      "Type_2_Fire                    721 non-null uint8\n",
      "Type_2_Flying                  721 non-null uint8\n",
      "Type_2_Ghost                   721 non-null uint8\n",
      "Type_2_Grass                   721 non-null uint8\n",
      "Type_2_Ground                  721 non-null uint8\n",
      "Type_2_Ice                     721 non-null uint8\n",
      "Type_2_Normal                  721 non-null uint8\n",
      "Type_2_Poison                  721 non-null uint8\n",
      "Type_2_Psychic                 721 non-null uint8\n",
      "Type_2_Rock                    721 non-null uint8\n",
      "Type_2_Steel                   721 non-null uint8\n",
      "Type_2_Water                   721 non-null uint8\n",
      "Type_2_nan                     721 non-null uint8\n",
      "Color_Black                    721 non-null uint8\n",
      "Color_Blue                     721 non-null uint8\n",
      "Color_Brown                    721 non-null uint8\n",
      "Color_Green                    721 non-null uint8\n",
      "Color_Grey                     721 non-null uint8\n",
      "Color_Pink                     721 non-null uint8\n",
      "Color_Purple                   721 non-null uint8\n",
      "Color_Red                      721 non-null uint8\n",
      "Color_White                    721 non-null uint8\n",
      "Color_Yellow                   721 non-null uint8\n",
      "Color_nan                      721 non-null uint8\n",
      "Egg_Group_1_Amorphous          721 non-null uint8\n",
      "Egg_Group_1_Bug                721 non-null uint8\n",
      "Egg_Group_1_Ditto              721 non-null uint8\n",
      "Egg_Group_1_Dragon             721 non-null uint8\n",
      "Egg_Group_1_Fairy              721 non-null uint8\n",
      "Egg_Group_1_Field              721 non-null uint8\n",
      "Egg_Group_1_Flying             721 non-null uint8\n",
      "Egg_Group_1_Grass              721 non-null uint8\n",
      "Egg_Group_1_Human-Like         721 non-null uint8\n",
      "Egg_Group_1_Mineral            721 non-null uint8\n",
      "Egg_Group_1_Monster            721 non-null uint8\n",
      "Egg_Group_1_Undiscovered       721 non-null uint8\n",
      "Egg_Group_1_Water_1            721 non-null uint8\n",
      "Egg_Group_1_Water_2            721 non-null uint8\n",
      "Egg_Group_1_Water_3            721 non-null uint8\n",
      "Egg_Group_1_nan                721 non-null uint8\n",
      "Egg_Group_2_Amorphous          721 non-null uint8\n",
      "Egg_Group_2_Bug                721 non-null uint8\n",
      "Egg_Group_2_Dragon             721 non-null uint8\n",
      "Egg_Group_2_Fairy              721 non-null uint8\n",
      "Egg_Group_2_Field              721 non-null uint8\n",
      "Egg_Group_2_Flying             721 non-null uint8\n",
      "Egg_Group_2_Grass              721 non-null uint8\n",
      "Egg_Group_2_Human-Like         721 non-null uint8\n",
      "Egg_Group_2_Mineral            721 non-null uint8\n",
      "Egg_Group_2_Monster            721 non-null uint8\n",
      "Egg_Group_2_Water_1            721 non-null uint8\n",
      "Egg_Group_2_Water_2            721 non-null uint8\n",
      "Egg_Group_2_Water_3            721 non-null uint8\n",
      "Egg_Group_2_nan                721 non-null uint8\n",
      "Body_Style_bipedal_tailed      721 non-null uint8\n",
      "Body_Style_bipedal_tailless    721 non-null uint8\n",
      "Body_Style_four_wings          721 non-null uint8\n",
      "Body_Style_head_arms           721 non-null uint8\n",
      "Body_Style_head_base           721 non-null uint8\n",
      "Body_Style_head_legs           721 non-null uint8\n",
      "Body_Style_head_only           721 non-null uint8\n",
      "Body_Style_insectoid           721 non-null uint8\n",
      "Body_Style_multiple_bodies     721 non-null uint8\n",
      "Body_Style_quadruped           721 non-null uint8\n",
      "Body_Style_serpentine_body     721 non-null uint8\n",
      "Body_Style_several_limbs       721 non-null uint8\n",
      "Body_Style_two_wings           721 non-null uint8\n",
      "Body_Style_with_fins           721 non-null uint8\n",
      "Body_Style_nan                 721 non-null uint8\n",
      "dtypes: bool(3), float64(3), int64(11), uint8(75)\n",
      "memory usage: 133.9 KB\n"
     ]
    }
   ],
   "source": [
    "#features.isLegendary = (features.isLegendary).astype(int)\n",
    "#features.hasGender = (features.hasGender).astype(int)\n",
    "#features.hasMegaEvolution = (features.hasMegaEvolution).astype(int)\n",
    "features.info()"
   ]
  },
  {
   "cell_type": "code",
   "execution_count": 10,
   "metadata": {},
   "outputs": [],
   "source": [
    "#features.mean()"
   ]
  },
  {
   "cell_type": "code",
   "execution_count": 11,
   "metadata": {},
   "outputs": [
    {
     "data": {
      "text/plain": [
       "0.5533773291925466"
      ]
     },
     "execution_count": 11,
     "metadata": {},
     "output_type": "execute_result"
    }
   ],
   "source": [
    "features['Pr_Male'].mean()"
   ]
  },
  {
   "cell_type": "code",
   "execution_count": 12,
   "metadata": {
    "collapsed": true
   },
   "outputs": [],
   "source": [
    "features['Pr_Male'].fillna(0,inplace = True)"
   ]
  },
  {
   "cell_type": "code",
   "execution_count": 13,
   "metadata": {
    "scrolled": true
   },
   "outputs": [],
   "source": [
    "\n",
    "# split training, cross-validation, test dataset\n"
   ]
  },
  {
   "cell_type": "code",
   "execution_count": 14,
   "metadata": {
    "collapsed": true
   },
   "outputs": [],
   "source": [
    "X_trcv, X_test, y_trcv, y_test = train_test_split(features,target,test_size=0.2)\n",
    "X_train, X_vali, y_train, y_vali = train_test_split(X_trcv,y_trcv,test_size=0.25)"
   ]
  },
  {
   "cell_type": "code",
   "execution_count": 15,
   "metadata": {
    "scrolled": false
   },
   "outputs": [],
   "source": [
    "#X_train.info()"
   ]
  },
  {
   "cell_type": "code",
   "execution_count": 16,
   "metadata": {},
   "outputs": [
    {
     "data": {
      "text/plain": [
       "0.49305555555555558"
      ]
     },
     "execution_count": 16,
     "metadata": {},
     "output_type": "execute_result"
    }
   ],
   "source": [
    "# Decision Tree\n",
    "from sklearn.tree import DecisionTreeClassifier\n",
    "Clf_dt = DecisionTreeClassifier()\n",
    "Clf_dt = Clf_dt.fit(X_train,y_train)\n",
    "Clf_dt.score(X_vali,y_vali)"
   ]
  },
  {
   "cell_type": "code",
   "execution_count": 20,
   "metadata": {},
   "outputs": [
    {
     "data": {
      "text/plain": [
       "0.59722222222222221"
      ]
     },
     "execution_count": 20,
     "metadata": {},
     "output_type": "execute_result"
    }
   ],
   "source": [
    "# Random Forest\n",
    "from sklearn.ensemble import RandomForestClassifier\n",
    "Clf_rf = RandomForestClassifier(n_estimators=50,random_state=0)\n",
    "Clf_rf = Clf_rf.fit(X_train,y_train)\n",
    "Clf_rf.score(X_vali,y_vali)"
   ]
  },
  {
   "cell_type": "code",
   "execution_count": 23,
   "metadata": {},
   "outputs": [
    {
     "data": {
      "text/plain": [
       "0.63194444444444442"
      ]
     },
     "execution_count": 23,
     "metadata": {},
     "output_type": "execute_result"
    }
   ],
   "source": [
    "# Logistic Regression\n",
    "from sklearn.linear_model import LogisticRegression\n",
    "Clf_lg = LogisticRegression()\n",
    "Clf_lg = Clf_lg.fit(X_train,y_train)\n",
    "Clf_lg.score(X_vali,y_vali)"
   ]
  },
  {
   "cell_type": "code",
   "execution_count": 28,
   "metadata": {},
   "outputs": [],
   "source": [
    "## KNN\n"
   ]
  },
  {
   "cell_type": "code",
   "execution_count": 24,
   "metadata": {
    "scrolled": true
   },
   "outputs": [
    {
     "name": "stdout",
     "output_type": "stream",
     "text": [
      "Score for Decision Tree: 0.441379310345\n",
      "Score for Random Forest: 0.537931034483\n",
      "Score for Logistic Regression: 0.551724137931\n"
     ]
    }
   ],
   "source": [
    "print(\"Score for Decision Tree:\",Clf_dt.score(X_test,y_test))\n",
    "print(\"Score for Random Forest:\",Clf_rf.score(X_test,y_test))\n",
    "print(\"Score for Logistic Regression:\",Clf_lg.score(X_test,y_test))"
   ]
  },
  {
   "cell_type": "code",
   "execution_count": null,
   "metadata": {
    "collapsed": true
   },
   "outputs": [],
   "source": []
  },
  {
   "cell_type": "code",
   "execution_count": null,
   "metadata": {
    "collapsed": true
   },
   "outputs": [],
   "source": []
  }
 ],
 "metadata": {
  "kernelspec": {
   "display_name": "Python [conda env:Python3]",
   "language": "python",
   "name": "conda-env-Python3-py"
  },
  "language_info": {
   "codemirror_mode": {
    "name": "ipython",
    "version": 3
   },
   "file_extension": ".py",
   "mimetype": "text/x-python",
   "name": "python",
   "nbconvert_exporter": "python",
   "pygments_lexer": "ipython3",
   "version": "3.6.1"
  }
 },
 "nbformat": 4,
 "nbformat_minor": 2
}
